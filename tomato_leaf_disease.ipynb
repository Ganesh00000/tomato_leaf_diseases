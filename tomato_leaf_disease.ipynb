{
  "nbformat": 4,
  "nbformat_minor": 0,
  "metadata": {
    "accelerator": "GPU",
    "colab": {
      "name": "tomato_leaf_disease.ipynb",
      "provenance": [],
      "collapsed_sections": []
    },
    "kernelspec": {
      "display_name": "Python 3",
      "name": "python3"
    },
    "language_info": {
      "name": "python"
    }
  },
  "cells": [
    {
      "cell_type": "code",
      "metadata": {
        "id": "YTP5U3EtEN-I"
      },
      "source": [
        "import numpy as np\n",
        "import pandas as pd\n",
        "import matplotlib.pyplot as plt\n",
        "import seaborn as sb"
      ],
      "execution_count": null,
      "outputs": []
    },
    {
      "cell_type": "code",
      "metadata": {
        "id": "dpz7XEB0EsFd"
      },
      "source": [
        "import PIL\n",
        "import cv2\n",
        "import tensorflow as tf\n",
        "from tensorflow import keras"
      ],
      "execution_count": null,
      "outputs": []
    },
    {
      "cell_type": "code",
      "metadata": {
        "id": "unpMRRyGHsUT"
      },
      "source": [
        "import pathlib"
      ],
      "execution_count": null,
      "outputs": []
    },
    {
      "cell_type": "code",
      "metadata": {
        "id": "rdVz-RNQE2Bo"
      },
      "source": [
        "from google.colab import drive"
      ],
      "execution_count": null,
      "outputs": []
    },
    {
      "cell_type": "code",
      "metadata": {
        "colab": {
          "base_uri": "https://localhost:8080/"
        },
        "id": "3-6WDntuE86B",
        "outputId": "12314af3-bdaa-45cd-fcaa-f21a67f60ad0"
      },
      "source": [
        "drive.mount(\"/content/drive\")"
      ],
      "execution_count": null,
      "outputs": [
        {
          "output_type": "stream",
          "text": [
            "Drive already mounted at /content/drive; to attempt to forcibly remount, call drive.mount(\"/content/drive\", force_remount=True).\n"
          ],
          "name": "stdout"
        }
      ]
    },
    {
      "cell_type": "code",
      "metadata": {
        "id": "35qL_C4sFLq3"
      },
      "source": [
        "url=\"/content/drive/MyDrive/tomato/train\""
      ],
      "execution_count": null,
      "outputs": []
    },
    {
      "cell_type": "code",
      "metadata": {
        "id": "LHJBMmDoHwgQ"
      },
      "source": [
        "url=pathlib.Path(url)"
      ],
      "execution_count": null,
      "outputs": []
    },
    {
      "cell_type": "code",
      "metadata": {
        "id": "bcdkw0yBH4RC"
      },
      "source": [
        "data={\"Tomato_Bacterial_spot\":list(url.glob(\"Tomato___Bacterial_spot/*\"))[:400],\n",
        "      \"Tomato_Early_blight\":list(url.glob(\"Tomato___Early_blight/*\"))[:400],\n",
        "      \"Tomato_Late_blight\":list(url.glob(\"Tomato___Late_blight/*\"))[:400],\n",
        "      \"Tomato_Leaf_Mold\":list(url.glob(\"Tomato___Leaf_Mold/*\"))[:400],\n",
        "      \"Tomato_Septoria_leaf_spot\":list(url.glob(\"Tomato___Septoria_leaf_spot/*\"))[:400],\n",
        "      \"Tomato_Spider_mites Two-spotted_spider_mite\":list(url.glob(\"Tomato___Spider_mites Two-spotted_spider_mite/*\"))[:400],\n",
        "      \"Tomato_Target_Spot\":list(url.glob(\"Tomato___Target_Spot/*\"))[:400],\n",
        "      \"Tomato_Tomato_Yellow_Leaf_Curl_Virus\":list(url.glob(\"Tomato___Tomato_Yellow_Leaf_Curl_Virus/*\"))[:400],\n",
        "      \"Tomato_Tomato_mosaic_virus\":list(url.glob(\"Tomato___Tomato_mosaic_virus/*\"))[:400],\n",
        "      \"Tomato_healthy\":list(url.glob(\"Tomato___healthy/*\"))[:400]\n",
        "      }"
      ],
      "execution_count": null,
      "outputs": []
    },
    {
      "cell_type": "code",
      "metadata": {
        "colab": {
          "base_uri": "https://localhost:8080/"
        },
        "id": "Klb4r-m5ZkXP",
        "outputId": "12e818b9-7013-4b66-e78c-7ade107e03a0"
      },
      "source": [
        "len(data[\"Tomato_Bacterial_spot\"])"
      ],
      "execution_count": null,
      "outputs": [
        {
          "output_type": "execute_result",
          "data": {
            "text/plain": [
              "400"
            ]
          },
          "metadata": {
            "tags": []
          },
          "execution_count": 54
        }
      ]
    },
    {
      "cell_type": "code",
      "metadata": {
        "id": "p5eNcvpJZl2K"
      },
      "source": [
        "index={\"Tomato_Bacterial_spot\":1,\n",
        "      \"Tomato_Early_blight\":2,\n",
        "      \"Tomato_Late_blight\":3,\n",
        "      \"Tomato_Leaf_Mold\":4,\n",
        "      \"Tomato_Septoria_leaf_spot\":5,\n",
        "      \"Tomato_Spider_mites Two-spotted_spider_mite\":6,\n",
        "      \"Tomato_Target_Spot\":7,\n",
        "      \"Tomato_Tomato_Yellow_Leaf_Curl_Virus\":8,\n",
        "      \"Tomato_Tomato_mosaic_virus\":9,\n",
        "      \"Tomato_healthy\":0\n",
        "      }"
      ],
      "execution_count": null,
      "outputs": []
    },
    {
      "cell_type": "code",
      "metadata": {
        "id": "pPZJhPeoaXzj"
      },
      "source": [
        "x,y=[],[]\n",
        "for nam,li in data.items():\n",
        "  for l in li:\n",
        "    img_arr=cv2.imread(str(l))\n",
        "    img_res=cv2.resize(img_arr,(224,224))\n",
        "    x.append(img_res)\n",
        "    y.append(index[nam])"
      ],
      "execution_count": null,
      "outputs": []
    },
    {
      "cell_type": "code",
      "metadata": {
        "id": "TNB2vFzGX8nc"
      },
      "source": [
        "x=np.array(x)\n",
        "y=np.array(y)"
      ],
      "execution_count": null,
      "outputs": []
    },
    {
      "cell_type": "code",
      "metadata": {
        "id": "8SZGlgdlFNog"
      },
      "source": [
        "x=x/255"
      ],
      "execution_count": null,
      "outputs": []
    },
    {
      "cell_type": "code",
      "metadata": {
        "colab": {
          "base_uri": "https://localhost:8080/"
        },
        "id": "sGc66UgnqWbt",
        "outputId": "f49eac3e-877a-4ff2-fd48-e5b39160c841"
      },
      "source": [
        "x.shape"
      ],
      "execution_count": null,
      "outputs": [
        {
          "output_type": "execute_result",
          "data": {
            "text/plain": [
              "(4000, 224, 224, 3)"
            ]
          },
          "metadata": {
            "tags": []
          },
          "execution_count": 69
        }
      ]
    },
    {
      "cell_type": "code",
      "metadata": {
        "id": "uajaV6c9qfZ9"
      },
      "source": [
        "from sklearn.model_selection import train_test_split"
      ],
      "execution_count": null,
      "outputs": []
    },
    {
      "cell_type": "code",
      "metadata": {
        "id": "FGqTUUt_q_I7"
      },
      "source": [
        "x_train,x_test,y_train,y_test=train_test_split(x,y,test_size=0.3)"
      ],
      "execution_count": null,
      "outputs": []
    },
    {
      "cell_type": "code",
      "metadata": {
        "colab": {
          "base_uri": "https://localhost:8080/"
        },
        "id": "fSqWvW7CrGDG",
        "outputId": "4c66ccf8-a821-45c4-ee29-280bc084f56d"
      },
      "source": [
        "x_train.shape"
      ],
      "execution_count": null,
      "outputs": [
        {
          "output_type": "execute_result",
          "data": {
            "text/plain": [
              "(2800, 224, 224, 3)"
            ]
          },
          "metadata": {
            "tags": []
          },
          "execution_count": 72
        }
      ]
    },
    {
      "cell_type": "code",
      "metadata": {
        "id": "nF4xyD7grpYN"
      },
      "source": [
        "import tensorflow_hub as hub"
      ],
      "execution_count": null,
      "outputs": []
    },
    {
      "cell_type": "code",
      "metadata": {
        "id": "EQCMgY7b1wDs"
      },
      "source": [
        "data_augmentation=keras.Sequential([\n",
        "      keras.layers.experimental.preprocessing.RandomZoom(0.4),\n",
        "      keras.layers.experimental.preprocessing.RandomContrast(0.3),\n",
        "      keras.layers.experimental.preprocessing.RandomRotation(0.5)\n",
        "])"
      ],
      "execution_count": null,
      "outputs": []
    },
    {
      "cell_type": "code",
      "metadata": {
        "colab": {
          "background_save": true,
          "base_uri": "https://localhost:8080/"
        },
        "id": "QmdM8erUrfeF",
        "outputId": "7094b2c8-f202-43e7-f336-d1f6fe03948b"
      },
      "source": [
        "model=keras.Sequential([\n",
        "      data_augmentation,\n",
        "      hub.KerasLayer(\"https://tfhub.dev/tensorflow/resnet_50/feature_vector/1\",input_shape=(224,224,3),trainable=False),\n",
        "      keras.layers.Dense(10,activation=\"softmax\")\n",
        "])\n",
        "model.compile(\n",
        "    optimizer=\"adam\",\n",
        "    loss=\"sparse_categorical_crossentropy\",\n",
        "    metrics=[\"accuracy\"]\n",
        ")\n",
        "model.fit(x_train,y_train,epochs=25)"
      ],
      "execution_count": null,
      "outputs": [
        {
          "output_type": "stream",
          "text": [
            "Epoch 1/25\n",
            "88/88 [==============================] - 26s 219ms/step - loss: 1056.5724 - accuracy: 0.1050\n",
            "Epoch 2/25\n",
            "88/88 [==============================] - 19s 219ms/step - loss: 322.7875 - accuracy: 0.1832\n",
            "Epoch 3/25\n",
            "88/88 [==============================] - 19s 219ms/step - loss: 381.2628 - accuracy: 0.1932\n",
            "Epoch 4/25\n",
            "88/88 [==============================] - 19s 218ms/step - loss: 282.4228 - accuracy: 0.2582\n",
            "Epoch 5/25\n",
            "88/88 [==============================] - 19s 219ms/step - loss: 342.7203 - accuracy: 0.2532\n",
            "Epoch 6/25\n",
            "88/88 [==============================] - 19s 218ms/step - loss: 223.5256 - accuracy: 0.3293\n",
            "Epoch 7/25\n",
            "88/88 [==============================] - 19s 219ms/step - loss: 196.9765 - accuracy: 0.3179\n",
            "Epoch 8/25\n",
            "88/88 [==============================] - 19s 218ms/step - loss: 245.0264 - accuracy: 0.3282\n",
            "Epoch 9/25\n",
            "88/88 [==============================] - 19s 218ms/step - loss: 289.0401 - accuracy: 0.2993\n",
            "Epoch 10/25\n",
            "88/88 [==============================] - 19s 218ms/step - loss: 237.7623 - accuracy: 0.3293\n",
            "Epoch 11/25\n",
            "88/88 [==============================] - 19s 218ms/step - loss: 187.5702 - accuracy: 0.3686\n",
            "Epoch 12/25\n",
            "88/88 [==============================] - 19s 218ms/step - loss: 227.5248 - accuracy: 0.3707\n",
            "Epoch 13/25\n",
            "88/88 [==============================] - 19s 218ms/step - loss: 176.6012 - accuracy: 0.4004\n",
            "Epoch 14/25\n",
            "88/88 [==============================] - 19s 218ms/step - loss: 178.4625 - accuracy: 0.4064\n",
            "Epoch 15/25\n",
            "88/88 [==============================] - 19s 218ms/step - loss: 168.0188 - accuracy: 0.3975\n",
            "Epoch 16/25\n",
            "88/88 [==============================] - 19s 218ms/step - loss: 228.6199 - accuracy: 0.3911\n",
            "Epoch 17/25\n",
            "88/88 [==============================] - 19s 218ms/step - loss: 221.3927 - accuracy: 0.3793\n",
            "Epoch 18/25\n",
            "88/88 [==============================] - 19s 218ms/step - loss: 164.6653 - accuracy: 0.4236\n",
            "Epoch 19/25\n",
            "88/88 [==============================] - 19s 218ms/step - loss: 211.3678 - accuracy: 0.4075\n",
            "Epoch 20/25\n",
            "88/88 [==============================] - 19s 218ms/step - loss: 202.1339 - accuracy: 0.4096\n",
            "Epoch 21/25\n",
            "88/88 [==============================] - 19s 218ms/step - loss: 185.2663 - accuracy: 0.4250\n",
            "Epoch 22/25\n",
            "88/88 [==============================] - 19s 218ms/step - loss: 204.5655 - accuracy: 0.4071\n",
            "Epoch 23/25\n",
            "88/88 [==============================] - 19s 218ms/step - loss: 195.3868 - accuracy: 0.4296\n",
            "Epoch 24/25\n",
            "88/88 [==============================] - 19s 218ms/step - loss: 221.7288 - accuracy: 0.4225\n",
            "Epoch 25/25\n",
            "88/88 [==============================] - 19s 218ms/step - loss: 185.3472 - accuracy: 0.4236\n"
          ],
          "name": "stdout"
        },
        {
          "output_type": "execute_result",
          "data": {
            "text/plain": [
              "<tensorflow.python.keras.callbacks.History at 0x7f47584f1290>"
            ]
          },
          "metadata": {
            "tags": []
          },
          "execution_count": 0
        }
      ]
    },
    {
      "cell_type": "code",
      "metadata": {
        "colab": {
          "background_save": true
        },
        "id": "KlNGdMIpsn8W",
        "outputId": "7d5b3cf4-f02d-4b77-ffd5-65ac4d5780b2"
      },
      "source": [
        "model.evaluate(x_test,y_test)"
      ],
      "execution_count": null,
      "outputs": [
        {
          "output_type": "stream",
          "text": [
            "38/38 [==============================] - 9s 216ms/step - loss: 280.6782 - accuracy: 0.3833\n"
          ],
          "name": "stdout"
        },
        {
          "output_type": "execute_result",
          "data": {
            "text/plain": [
              "[280.6781921386719, 0.38333332538604736]"
            ]
          },
          "metadata": {
            "tags": []
          },
          "execution_count": 0
        }
      ]
    }
  ]
}